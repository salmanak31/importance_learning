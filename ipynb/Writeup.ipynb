{
 "cells": [
  {
   "cell_type": "code",
   "execution_count": 1,
   "metadata": {},
   "outputs": [],
   "source": [
    "import il_pedagogical as ilp\n",
    "import numpy as np\n",
    "import matplotlib.pyplot as plt\n",
    "import seaborn as sns\n",
    "import numpy as np\n",
    "\n",
    "from importance_learning.sampling import Distribution, ImportanceSample\n",
    "\n",
    "plt.rcParams['figure.figsize'] = 9, 8\n",
    "plt.rcParams.update({'font.size': 22})"
   ]
  },
  {
   "cell_type": "code",
   "execution_count": 19,
   "metadata": {},
   "outputs": [
    {
     "name": "stdout",
     "output_type": "stream",
     "text": [
      "0.0286757409207468\n"
     ]
    },
    {
     "data": {
      "image/png": "[encoded data removed]",
      "text/plain": [
       "<Figure size 648x288 with 2 Axes>"
      ]
     },
     "metadata": {
      "needs_background": "light"
     },
     "output_type": "display_data"
    },
    {
     "data": {
      "text/plain": [
       "(198, 198)"
      ]
     },
     "execution_count": 19,
     "metadata": {},
     "output_type": "execute_result"
    }
   ],
   "source": [
    "lattice_size = 200\n",
    "a = 30 # ~ Potential width, dimensionless\n",
    "D = 25 # Potential depth, kJ/mol\n",
    "r_eq = 1.0 # Equilibrium distance of unperturbed lattice, dimensionless\n",
    "T = 300\n",
    "sigma = ilp.morse_std(r_eq, D, a, T)\n",
    "print(sigma)\n",
    "delta = 1. * sigma\n",
    "\n",
    "lower = 0.0\n",
    "upper = 0.5 \n",
    "# sigma = 0.1\n",
    "mean = 0.0\n",
    "\n",
    "\n",
    "lattice = ilp.make_quenched_disorder_lattice(lattice_size, delta, \"uniform\", False, lower, upper, delta, mean)\n",
    "# plot_lattice(lattice)\n",
    "NN_distances = ilp.nearest_neighbor_distances(lattice)\n",
    "# Ads_E = ilp.adsorption_energies(lattice,r_eq, D, a, T, 1)\n",
    "Ads_E = ilp.adsorption_energies(lattice, 2, 1, r_eq=1., D=30, a=a, std=delta, T=T)\n",
    "\n",
    "barrier_distribution = Ads_E + 60\n",
    "\n",
    "# K = ilp.compute_equilibrium_const(Ads_E, T)\n",
    "\n",
    "\n",
    "# # ilp.histogram(Ads_E)\n",
    "ilp.histogram(Ads_E.ravel(), T)\n",
    "# plt.show()\n",
    "# ilp.histogram(Ads_E, T, True)\n",
    "barrier_distribution.shape\n"
   ]
  },
  {
   "cell_type": "markdown",
   "metadata": {},
   "source": [
    "## Dialing in Parameters\n",
    "\n",
    "The free parameters in the model are $a$, $D$, and $\\delta$, all of which have a physical meaning.\n",
    "\n",
    "$D$ has units of kJ/mol and controls how deep the potential well is. It is directly related to how strong the \"bonds\" to nearest neighbors are. D also sets the maximum value of $\\Delta G_A(\\textbf{r})$\n",
    "\n",
    "$a$ is the well width and strongly influences the short range repulsive region of the curve. Because $\\hat{r}$ and $\\hat{r}_{eq}$ are non-dimensionalized, $a$ also sets the length scale of the lattice.\n",
    "\n",
    "$\\delta$ is the max displacement magnitude applied to the uniform sites. $\\delta$ is also constrained to a max value of $0.5$. Values > 0.5 introduces the possibility of sites overlapping and the nearest neighbors of a site changing.\n",
    "\n",
    "$D$ is set to ~30 kJ/mol, which is roughly half the value of $\\Delta G^\\ddagger$.\n",
    "\n",
    "$a$ is set to 2.5. Plotting $w(r)$, and a length scale emerges. We can plot $p(w(r)) =\\frac{\\exp(-\\beta w(r))}{ \\int_{0}^{2} \\exp(-\\beta w(r))} dr $ to see the equilibrium population. The configurational partition function is over the range $[0, 2]$ because the maximum displacement applied to a site is $\\hat{r} = 0.5$ to prevent sites overlapping and nearest neighbors shifting. In the uniform lattice, sites are initially a distance of $\\hat{r} = 1$ apart. A distance of 0 occurs when two sites are displaced by $\\hat{r} = 0.5$ *toward* each other, and a distance of 2 occurs when two sites are displaced by $\\hat{r} = 0.5$ *away* from each other. The standard deviation of $p(w(r))$ can be computed through normal means, $\\sigma = \\sqrt{\\langle r^2 \\rangle - \\langle r \\rangle^2}$, and can be related to $\\delta$.\n",
    "\n",
    "Although $\\delta=1.1\\sigma$, $\\rho(r) \\in [0, 2.2\\sigma]$\n",
    "\n"
   ]
  },
  {
   "cell_type": "code",
   "execution_count": 21,
   "metadata": {},
   "outputs": [
    {
     "name": "stdout",
     "output_type": "stream",
     "text": [
      "max[w(r)] = 2.855018474538677e+27\n"
     ]
    },
    {
     "data": {
      "image/png": "[encoded data removed]",
      "text/plain": [
       "<Figure size 648x288 with 1 Axes>"
      ]
     },
     "metadata": {
      "needs_background": "light"
     },
     "output_type": "display_data"
    }
   ],
   "source": [
    "r = np.linspace(0,2,500)\n",
    "\n",
    "w_r = ilp.morse_potential(r, r_eq, D, a)\n",
    "p_r = ilp.morse_probability(r, r_eq, D, a, T)\n",
    "\n",
    "\n",
    "\n",
    "plt.plot(r, w_r, linewidth=3, label=r'$w(r)$')\n",
    "plt.plot(r, p_r, linewidth=3, label=r'$p(w(r))$')\n",
    "plt.plot([r_eq - delta, r_eq + delta],[-0.25*D, -0.25*D], linewidth=3, label=r'$r_{eq} \\pm %s \\sigma$' % (2))\n",
    "print('max[w(r)] = %s' % max(w_r))\n",
    "plt.ylim(-D, 25)\n",
    "plt.xlabel('r')\n",
    "plt.ylabel(r'$w(r)$ and $p(w(r))$')\n",
    "plt.legend()\n",
    "plt.show()"
   ]
  },
  {
   "cell_type": "code",
   "execution_count": null,
   "metadata": {},
   "outputs": [],
   "source": []
  }
 ],
 "metadata": {
  "kernelspec": {
   "display_name": "Python 3",
   "language": "python",
   "name": "python3"
  },
  "language_info": {
   "codemirror_mode": {
    "name": "ipython",
    "version": 3
   },
   "file_extension": ".py",
   "mimetype": "text/x-python",
   "name": "python",
   "nbconvert_exporter": "python",
   "pygments_lexer": "ipython3",
   "version": "3.6.7"
  }
 },
 "nbformat": 4,
 "nbformat_minor": 2
}
